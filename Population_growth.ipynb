{
  "cells": [
    {
      "cell_type": "markdown",
      "metadata": {
        "id": "view-in-github",
        "colab_type": "text"
      },
      "source": [
        "<a href=\"https://colab.research.google.com/github/marcello-turri/population_forecasting/blob/main/Population_growth.ipynb\" target=\"_parent\"><img src=\"https://colab.research.google.com/assets/colab-badge.svg\" alt=\"Open In Colab\"/></a>"
      ]
    },
    {
      "cell_type": "code",
      "execution_count": null,
      "metadata": {
        "colab": {
          "base_uri": "https://localhost:8080/"
        },
        "id": "FVeAwmwSqp6S",
        "outputId": "d262be58-a9fb-46a7-d3b8-ef200f1c40f3"
      },
      "outputs": [
        {
          "output_type": "stream",
          "name": "stdout",
          "text": [
            "Looking in indexes: https://pypi.org/simple, https://us-python.pkg.dev/colab-wheels/public/simple/\n",
            "Requirement already satisfied: keras-tuner in /usr/local/lib/python3.8/dist-packages (1.1.3)\n",
            "Requirement already satisfied: tensorboard in /usr/local/lib/python3.8/dist-packages (from keras-tuner) (2.9.1)\n",
            "Requirement already satisfied: packaging in /usr/local/lib/python3.8/dist-packages (from keras-tuner) (21.3)\n",
            "Requirement already satisfied: numpy in /usr/local/lib/python3.8/dist-packages (from keras-tuner) (1.21.6)\n",
            "Requirement already satisfied: kt-legacy in /usr/local/lib/python3.8/dist-packages (from keras-tuner) (1.0.4)\n",
            "Requirement already satisfied: requests in /usr/local/lib/python3.8/dist-packages (from keras-tuner) (2.23.0)\n",
            "Requirement already satisfied: ipython in /usr/local/lib/python3.8/dist-packages (from keras-tuner) (7.9.0)\n",
            "Requirement already satisfied: decorator in /usr/local/lib/python3.8/dist-packages (from ipython->keras-tuner) (4.4.2)\n",
            "Requirement already satisfied: pickleshare in /usr/local/lib/python3.8/dist-packages (from ipython->keras-tuner) (0.7.5)\n",
            "Requirement already satisfied: pygments in /usr/local/lib/python3.8/dist-packages (from ipython->keras-tuner) (2.6.1)\n",
            "Requirement already satisfied: prompt-toolkit<2.1.0,>=2.0.0 in /usr/local/lib/python3.8/dist-packages (from ipython->keras-tuner) (2.0.10)\n",
            "Requirement already satisfied: backcall in /usr/local/lib/python3.8/dist-packages (from ipython->keras-tuner) (0.2.0)\n",
            "Requirement already satisfied: setuptools>=18.5 in /usr/local/lib/python3.8/dist-packages (from ipython->keras-tuner) (57.4.0)\n",
            "Requirement already satisfied: traitlets>=4.2 in /usr/local/lib/python3.8/dist-packages (from ipython->keras-tuner) (5.6.0)\n",
            "Requirement already satisfied: jedi>=0.10 in /usr/local/lib/python3.8/dist-packages (from ipython->keras-tuner) (0.18.2)\n",
            "Requirement already satisfied: pexpect in /usr/local/lib/python3.8/dist-packages (from ipython->keras-tuner) (4.8.0)\n",
            "Requirement already satisfied: parso<0.9.0,>=0.8.0 in /usr/local/lib/python3.8/dist-packages (from jedi>=0.10->ipython->keras-tuner) (0.8.3)\n",
            "Requirement already satisfied: wcwidth in /usr/local/lib/python3.8/dist-packages (from prompt-toolkit<2.1.0,>=2.0.0->ipython->keras-tuner) (0.2.5)\n",
            "Requirement already satisfied: six>=1.9.0 in /usr/local/lib/python3.8/dist-packages (from prompt-toolkit<2.1.0,>=2.0.0->ipython->keras-tuner) (1.15.0)\n",
            "Requirement already satisfied: pyparsing!=3.0.5,>=2.0.2 in /usr/local/lib/python3.8/dist-packages (from packaging->keras-tuner) (3.0.9)\n",
            "Requirement already satisfied: ptyprocess>=0.5 in /usr/local/lib/python3.8/dist-packages (from pexpect->ipython->keras-tuner) (0.7.0)\n",
            "Requirement already satisfied: urllib3!=1.25.0,!=1.25.1,<1.26,>=1.21.1 in /usr/local/lib/python3.8/dist-packages (from requests->keras-tuner) (1.24.3)\n",
            "Requirement already satisfied: idna<3,>=2.5 in /usr/local/lib/python3.8/dist-packages (from requests->keras-tuner) (2.10)\n",
            "Requirement already satisfied: certifi>=2017.4.17 in /usr/local/lib/python3.8/dist-packages (from requests->keras-tuner) (2022.9.24)\n",
            "Requirement already satisfied: chardet<4,>=3.0.2 in /usr/local/lib/python3.8/dist-packages (from requests->keras-tuner) (3.0.4)\n",
            "Requirement already satisfied: tensorboard-data-server<0.7.0,>=0.6.0 in /usr/local/lib/python3.8/dist-packages (from tensorboard->keras-tuner) (0.6.1)\n",
            "Requirement already satisfied: wheel>=0.26 in /usr/local/lib/python3.8/dist-packages (from tensorboard->keras-tuner) (0.38.4)\n",
            "Requirement already satisfied: markdown>=2.6.8 in /usr/local/lib/python3.8/dist-packages (from tensorboard->keras-tuner) (3.4.1)\n",
            "Requirement already satisfied: google-auth<3,>=1.6.3 in /usr/local/lib/python3.8/dist-packages (from tensorboard->keras-tuner) (2.15.0)\n",
            "Requirement already satisfied: grpcio>=1.24.3 in /usr/local/lib/python3.8/dist-packages (from tensorboard->keras-tuner) (1.51.1)\n",
            "Requirement already satisfied: werkzeug>=1.0.1 in /usr/local/lib/python3.8/dist-packages (from tensorboard->keras-tuner) (1.0.1)\n",
            "Requirement already satisfied: tensorboard-plugin-wit>=1.6.0 in /usr/local/lib/python3.8/dist-packages (from tensorboard->keras-tuner) (1.8.1)\n",
            "Requirement already satisfied: absl-py>=0.4 in /usr/local/lib/python3.8/dist-packages (from tensorboard->keras-tuner) (1.3.0)\n",
            "Requirement already satisfied: google-auth-oauthlib<0.5,>=0.4.1 in /usr/local/lib/python3.8/dist-packages (from tensorboard->keras-tuner) (0.4.6)\n",
            "Requirement already satisfied: protobuf<3.20,>=3.9.2 in /usr/local/lib/python3.8/dist-packages (from tensorboard->keras-tuner) (3.19.6)\n",
            "Requirement already satisfied: cachetools<6.0,>=2.0.0 in /usr/local/lib/python3.8/dist-packages (from google-auth<3,>=1.6.3->tensorboard->keras-tuner) (5.2.0)\n",
            "Requirement already satisfied: rsa<5,>=3.1.4 in /usr/local/lib/python3.8/dist-packages (from google-auth<3,>=1.6.3->tensorboard->keras-tuner) (4.9)\n",
            "Requirement already satisfied: pyasn1-modules>=0.2.1 in /usr/local/lib/python3.8/dist-packages (from google-auth<3,>=1.6.3->tensorboard->keras-tuner) (0.2.8)\n",
            "Requirement already satisfied: requests-oauthlib>=0.7.0 in /usr/local/lib/python3.8/dist-packages (from google-auth-oauthlib<0.5,>=0.4.1->tensorboard->keras-tuner) (1.3.1)\n",
            "Requirement already satisfied: importlib-metadata>=4.4 in /usr/local/lib/python3.8/dist-packages (from markdown>=2.6.8->tensorboard->keras-tuner) (4.13.0)\n",
            "Requirement already satisfied: zipp>=0.5 in /usr/local/lib/python3.8/dist-packages (from importlib-metadata>=4.4->markdown>=2.6.8->tensorboard->keras-tuner) (3.11.0)\n",
            "Requirement already satisfied: pyasn1<0.5.0,>=0.4.6 in /usr/local/lib/python3.8/dist-packages (from pyasn1-modules>=0.2.1->google-auth<3,>=1.6.3->tensorboard->keras-tuner) (0.4.8)\n",
            "Requirement already satisfied: oauthlib>=3.0.0 in /usr/local/lib/python3.8/dist-packages (from requests-oauthlib>=0.7.0->google-auth-oauthlib<0.5,>=0.4.1->tensorboard->keras-tuner) (3.2.2)\n"
          ]
        }
      ],
      "source": [
        "!pip install keras-tuner"
      ]
    },
    {
      "cell_type": "code",
      "execution_count": null,
      "metadata": {
        "colab": {
          "base_uri": "https://localhost:8080/"
        },
        "id": "966f8ucpqwib",
        "outputId": "f0a564d8-18c4-4a1d-e3d0-b7257c49bf0e"
      },
      "outputs": [
        {
          "output_type": "stream",
          "name": "stderr",
          "text": [
            "<ipython-input-2-278d7c2887dd>:7: DeprecationWarning: `import kerastuner` is deprecated, please use `import keras_tuner`.\n",
            "  from kerastuner.tuners import RandomSearch\n"
          ]
        }
      ],
      "source": [
        "import tensorflow as tf\n",
        "from tensorflow import keras\n",
        "import numpy as np\n",
        "import matplotlib.pyplot as plt\n",
        "import pandas as pd\n",
        "import os\n",
        "from kerastuner.tuners import RandomSearch\n",
        "import keras_tuner"
      ]
    },
    {
      "cell_type": "code",
      "execution_count": null,
      "metadata": {
        "colab": {
          "base_uri": "https://localhost:8080/",
          "height": 238
        },
        "id": "_gDjQQGaq1z8",
        "outputId": "2aa0ad4a-a5fd-44ca-c734-caa8942f2e43"
      },
      "outputs": [
        {
          "output_type": "execute_result",
          "data": {
            "text/plain": [
              "           realtime_start     value realtime_end\n",
              "date                                            \n",
              "1952-01-01     2019-12-06  156309.0   2019-12-06\n",
              "1952-02-01     2019-12-06  156527.0   2019-12-06\n",
              "1952-03-01     2019-12-06  156731.0   2019-12-06\n",
              "1952-04-01     2019-12-06  156943.0   2019-12-06\n",
              "1952-05-01     2019-12-06  157140.0   2019-12-06"
            ],
            "text/html": [
              "\n",
              "  <div id=\"df-a619bfe3-b7ed-48da-96ac-528c32098636\">\n",
              "    <div class=\"colab-df-container\">\n",
              "      <div>\n",
              "<style scoped>\n",
              "    .dataframe tbody tr th:only-of-type {\n",
              "        vertical-align: middle;\n",
              "    }\n",
              "\n",
              "    .dataframe tbody tr th {\n",
              "        vertical-align: top;\n",
              "    }\n",
              "\n",
              "    .dataframe thead th {\n",
              "        text-align: right;\n",
              "    }\n",
              "</style>\n",
              "<table border=\"1\" class=\"dataframe\">\n",
              "  <thead>\n",
              "    <tr style=\"text-align: right;\">\n",
              "      <th></th>\n",
              "      <th>realtime_start</th>\n",
              "      <th>value</th>\n",
              "      <th>realtime_end</th>\n",
              "    </tr>\n",
              "    <tr>\n",
              "      <th>date</th>\n",
              "      <th></th>\n",
              "      <th></th>\n",
              "      <th></th>\n",
              "    </tr>\n",
              "  </thead>\n",
              "  <tbody>\n",
              "    <tr>\n",
              "      <th>1952-01-01</th>\n",
              "      <td>2019-12-06</td>\n",
              "      <td>156309.0</td>\n",
              "      <td>2019-12-06</td>\n",
              "    </tr>\n",
              "    <tr>\n",
              "      <th>1952-02-01</th>\n",
              "      <td>2019-12-06</td>\n",
              "      <td>156527.0</td>\n",
              "      <td>2019-12-06</td>\n",
              "    </tr>\n",
              "    <tr>\n",
              "      <th>1952-03-01</th>\n",
              "      <td>2019-12-06</td>\n",
              "      <td>156731.0</td>\n",
              "      <td>2019-12-06</td>\n",
              "    </tr>\n",
              "    <tr>\n",
              "      <th>1952-04-01</th>\n",
              "      <td>2019-12-06</td>\n",
              "      <td>156943.0</td>\n",
              "      <td>2019-12-06</td>\n",
              "    </tr>\n",
              "    <tr>\n",
              "      <th>1952-05-01</th>\n",
              "      <td>2019-12-06</td>\n",
              "      <td>157140.0</td>\n",
              "      <td>2019-12-06</td>\n",
              "    </tr>\n",
              "  </tbody>\n",
              "</table>\n",
              "</div>\n",
              "      <button class=\"colab-df-convert\" onclick=\"convertToInteractive('df-a619bfe3-b7ed-48da-96ac-528c32098636')\"\n",
              "              title=\"Convert this dataframe to an interactive table.\"\n",
              "              style=\"display:none;\">\n",
              "        \n",
              "  <svg xmlns=\"http://www.w3.org/2000/svg\" height=\"24px\"viewBox=\"0 0 24 24\"\n",
              "       width=\"24px\">\n",
              "    <path d=\"M0 0h24v24H0V0z\" fill=\"none\"/>\n",
              "    <path d=\"M18.56 5.44l.94 2.06.94-2.06 2.06-.94-2.06-.94-.94-2.06-.94 2.06-2.06.94zm-11 1L8.5 8.5l.94-2.06 2.06-.94-2.06-.94L8.5 2.5l-.94 2.06-2.06.94zm10 10l.94 2.06.94-2.06 2.06-.94-2.06-.94-.94-2.06-.94 2.06-2.06.94z\"/><path d=\"M17.41 7.96l-1.37-1.37c-.4-.4-.92-.59-1.43-.59-.52 0-1.04.2-1.43.59L10.3 9.45l-7.72 7.72c-.78.78-.78 2.05 0 2.83L4 21.41c.39.39.9.59 1.41.59.51 0 1.02-.2 1.41-.59l7.78-7.78 2.81-2.81c.8-.78.8-2.07 0-2.86zM5.41 20L4 18.59l7.72-7.72 1.47 1.35L5.41 20z\"/>\n",
              "  </svg>\n",
              "      </button>\n",
              "      \n",
              "  <style>\n",
              "    .colab-df-container {\n",
              "      display:flex;\n",
              "      flex-wrap:wrap;\n",
              "      gap: 12px;\n",
              "    }\n",
              "\n",
              "    .colab-df-convert {\n",
              "      background-color: #E8F0FE;\n",
              "      border: none;\n",
              "      border-radius: 50%;\n",
              "      cursor: pointer;\n",
              "      display: none;\n",
              "      fill: #1967D2;\n",
              "      height: 32px;\n",
              "      padding: 0 0 0 0;\n",
              "      width: 32px;\n",
              "    }\n",
              "\n",
              "    .colab-df-convert:hover {\n",
              "      background-color: #E2EBFA;\n",
              "      box-shadow: 0px 1px 2px rgba(60, 64, 67, 0.3), 0px 1px 3px 1px rgba(60, 64, 67, 0.15);\n",
              "      fill: #174EA6;\n",
              "    }\n",
              "\n",
              "    [theme=dark] .colab-df-convert {\n",
              "      background-color: #3B4455;\n",
              "      fill: #D2E3FC;\n",
              "    }\n",
              "\n",
              "    [theme=dark] .colab-df-convert:hover {\n",
              "      background-color: #434B5C;\n",
              "      box-shadow: 0px 1px 3px 1px rgba(0, 0, 0, 0.15);\n",
              "      filter: drop-shadow(0px 1px 2px rgba(0, 0, 0, 0.3));\n",
              "      fill: #FFFFFF;\n",
              "    }\n",
              "  </style>\n",
              "\n",
              "      <script>\n",
              "        const buttonEl =\n",
              "          document.querySelector('#df-a619bfe3-b7ed-48da-96ac-528c32098636 button.colab-df-convert');\n",
              "        buttonEl.style.display =\n",
              "          google.colab.kernel.accessAllowed ? 'block' : 'none';\n",
              "\n",
              "        async function convertToInteractive(key) {\n",
              "          const element = document.querySelector('#df-a619bfe3-b7ed-48da-96ac-528c32098636');\n",
              "          const dataTable =\n",
              "            await google.colab.kernel.invokeFunction('convertToInteractive',\n",
              "                                                     [key], {});\n",
              "          if (!dataTable) return;\n",
              "\n",
              "          const docLinkHtml = 'Like what you see? Visit the ' +\n",
              "            '<a target=\"_blank\" href=https://colab.research.google.com/notebooks/data_table.ipynb>data table notebook</a>'\n",
              "            + ' to learn more about interactive tables.';\n",
              "          element.innerHTML = '';\n",
              "          dataTable['output_type'] = 'display_data';\n",
              "          await google.colab.output.renderOutput(dataTable, element);\n",
              "          const docLink = document.createElement('div');\n",
              "          docLink.innerHTML = docLinkHtml;\n",
              "          element.appendChild(docLink);\n",
              "        }\n",
              "      </script>\n",
              "    </div>\n",
              "  </div>\n",
              "  "
            ]
          },
          "metadata": {},
          "execution_count": 3
        }
      ],
      "source": [
        "df = pd.read_csv(\"/content/POP.csv\",\n",
        "                 parse_dates=[\"date\"],\n",
        "                 index_col=[\"date\"]) #set Date to become index\n",
        "df.head()"
      ]
    },
    {
      "cell_type": "code",
      "execution_count": null,
      "metadata": {
        "colab": {
          "base_uri": "https://localhost:8080/",
          "height": 455
        },
        "id": "nMKfE780q2Mk",
        "outputId": "9aceea5f-e2d5-4b8b-bff4-b0bc960b06e3"
      },
      "outputs": [
        {
          "output_type": "execute_result",
          "data": {
            "text/plain": [
              "                 value\n",
              "date                  \n",
              "1952-01-01  156309.000\n",
              "1952-02-01  156527.000\n",
              "1952-03-01  156731.000\n",
              "1952-04-01  156943.000\n",
              "1952-05-01  157140.000\n",
              "...                ...\n",
              "2019-08-01  329591.333\n",
              "2019-09-01  329785.872\n",
              "2019-10-01  329982.035\n",
              "2019-11-01  330154.949\n",
              "2019-12-01  330309.946\n",
              "\n",
              "[816 rows x 1 columns]"
            ],
            "text/html": [
              "\n",
              "  <div id=\"df-6f3f1edf-f7ab-4478-b623-746a359f11be\">\n",
              "    <div class=\"colab-df-container\">\n",
              "      <div>\n",
              "<style scoped>\n",
              "    .dataframe tbody tr th:only-of-type {\n",
              "        vertical-align: middle;\n",
              "    }\n",
              "\n",
              "    .dataframe tbody tr th {\n",
              "        vertical-align: top;\n",
              "    }\n",
              "\n",
              "    .dataframe thead th {\n",
              "        text-align: right;\n",
              "    }\n",
              "</style>\n",
              "<table border=\"1\" class=\"dataframe\">\n",
              "  <thead>\n",
              "    <tr style=\"text-align: right;\">\n",
              "      <th></th>\n",
              "      <th>value</th>\n",
              "    </tr>\n",
              "    <tr>\n",
              "      <th>date</th>\n",
              "      <th></th>\n",
              "    </tr>\n",
              "  </thead>\n",
              "  <tbody>\n",
              "    <tr>\n",
              "      <th>1952-01-01</th>\n",
              "      <td>156309.000</td>\n",
              "    </tr>\n",
              "    <tr>\n",
              "      <th>1952-02-01</th>\n",
              "      <td>156527.000</td>\n",
              "    </tr>\n",
              "    <tr>\n",
              "      <th>1952-03-01</th>\n",
              "      <td>156731.000</td>\n",
              "    </tr>\n",
              "    <tr>\n",
              "      <th>1952-04-01</th>\n",
              "      <td>156943.000</td>\n",
              "    </tr>\n",
              "    <tr>\n",
              "      <th>1952-05-01</th>\n",
              "      <td>157140.000</td>\n",
              "    </tr>\n",
              "    <tr>\n",
              "      <th>...</th>\n",
              "      <td>...</td>\n",
              "    </tr>\n",
              "    <tr>\n",
              "      <th>2019-08-01</th>\n",
              "      <td>329591.333</td>\n",
              "    </tr>\n",
              "    <tr>\n",
              "      <th>2019-09-01</th>\n",
              "      <td>329785.872</td>\n",
              "    </tr>\n",
              "    <tr>\n",
              "      <th>2019-10-01</th>\n",
              "      <td>329982.035</td>\n",
              "    </tr>\n",
              "    <tr>\n",
              "      <th>2019-11-01</th>\n",
              "      <td>330154.949</td>\n",
              "    </tr>\n",
              "    <tr>\n",
              "      <th>2019-12-01</th>\n",
              "      <td>330309.946</td>\n",
              "    </tr>\n",
              "  </tbody>\n",
              "</table>\n",
              "<p>816 rows × 1 columns</p>\n",
              "</div>\n",
              "      <button class=\"colab-df-convert\" onclick=\"convertToInteractive('df-6f3f1edf-f7ab-4478-b623-746a359f11be')\"\n",
              "              title=\"Convert this dataframe to an interactive table.\"\n",
              "              style=\"display:none;\">\n",
              "        \n",
              "  <svg xmlns=\"http://www.w3.org/2000/svg\" height=\"24px\"viewBox=\"0 0 24 24\"\n",
              "       width=\"24px\">\n",
              "    <path d=\"M0 0h24v24H0V0z\" fill=\"none\"/>\n",
              "    <path d=\"M18.56 5.44l.94 2.06.94-2.06 2.06-.94-2.06-.94-.94-2.06-.94 2.06-2.06.94zm-11 1L8.5 8.5l.94-2.06 2.06-.94-2.06-.94L8.5 2.5l-.94 2.06-2.06.94zm10 10l.94 2.06.94-2.06 2.06-.94-2.06-.94-.94-2.06-.94 2.06-2.06.94z\"/><path d=\"M17.41 7.96l-1.37-1.37c-.4-.4-.92-.59-1.43-.59-.52 0-1.04.2-1.43.59L10.3 9.45l-7.72 7.72c-.78.78-.78 2.05 0 2.83L4 21.41c.39.39.9.59 1.41.59.51 0 1.02-.2 1.41-.59l7.78-7.78 2.81-2.81c.8-.78.8-2.07 0-2.86zM5.41 20L4 18.59l7.72-7.72 1.47 1.35L5.41 20z\"/>\n",
              "  </svg>\n",
              "      </button>\n",
              "      \n",
              "  <style>\n",
              "    .colab-df-container {\n",
              "      display:flex;\n",
              "      flex-wrap:wrap;\n",
              "      gap: 12px;\n",
              "    }\n",
              "\n",
              "    .colab-df-convert {\n",
              "      background-color: #E8F0FE;\n",
              "      border: none;\n",
              "      border-radius: 50%;\n",
              "      cursor: pointer;\n",
              "      display: none;\n",
              "      fill: #1967D2;\n",
              "      height: 32px;\n",
              "      padding: 0 0 0 0;\n",
              "      width: 32px;\n",
              "    }\n",
              "\n",
              "    .colab-df-convert:hover {\n",
              "      background-color: #E2EBFA;\n",
              "      box-shadow: 0px 1px 2px rgba(60, 64, 67, 0.3), 0px 1px 3px 1px rgba(60, 64, 67, 0.15);\n",
              "      fill: #174EA6;\n",
              "    }\n",
              "\n",
              "    [theme=dark] .colab-df-convert {\n",
              "      background-color: #3B4455;\n",
              "      fill: #D2E3FC;\n",
              "    }\n",
              "\n",
              "    [theme=dark] .colab-df-convert:hover {\n",
              "      background-color: #434B5C;\n",
              "      box-shadow: 0px 1px 3px 1px rgba(0, 0, 0, 0.15);\n",
              "      filter: drop-shadow(0px 1px 2px rgba(0, 0, 0, 0.3));\n",
              "      fill: #FFFFFF;\n",
              "    }\n",
              "  </style>\n",
              "\n",
              "      <script>\n",
              "        const buttonEl =\n",
              "          document.querySelector('#df-6f3f1edf-f7ab-4478-b623-746a359f11be button.colab-df-convert');\n",
              "        buttonEl.style.display =\n",
              "          google.colab.kernel.accessAllowed ? 'block' : 'none';\n",
              "\n",
              "        async function convertToInteractive(key) {\n",
              "          const element = document.querySelector('#df-6f3f1edf-f7ab-4478-b623-746a359f11be');\n",
              "          const dataTable =\n",
              "            await google.colab.kernel.invokeFunction('convertToInteractive',\n",
              "                                                     [key], {});\n",
              "          if (!dataTable) return;\n",
              "\n",
              "          const docLinkHtml = 'Like what you see? Visit the ' +\n",
              "            '<a target=\"_blank\" href=https://colab.research.google.com/notebooks/data_table.ipynb>data table notebook</a>'\n",
              "            + ' to learn more about interactive tables.';\n",
              "          element.innerHTML = '';\n",
              "          dataTable['output_type'] = 'display_data';\n",
              "          await google.colab.output.renderOutput(dataTable, element);\n",
              "          const docLink = document.createElement('div');\n",
              "          docLink.innerHTML = docLinkHtml;\n",
              "          element.appendChild(docLink);\n",
              "        }\n",
              "      </script>\n",
              "    </div>\n",
              "  </div>\n",
              "  "
            ]
          },
          "metadata": {},
          "execution_count": 4
        }
      ],
      "source": [
        "df = df[['value']]\n",
        "df"
      ]
    },
    {
      "cell_type": "code",
      "execution_count": null,
      "metadata": {
        "id": "P4Unr7aEq3eU"
      },
      "outputs": [],
      "source": [
        "def train_val_test_split(X, y, test_size=0.2):\n",
        "  X_train = np.array(X[:int(len(X) * ( 1 - test_size ))])\n",
        "  y_train = np.array(y[:int(len(y) * ( 1 - test_size ))])\n",
        "  X_test = np.array(X[int(len(X) * ( 1 - test_size )):])\n",
        "  y_test = np.array(y[int(len(y) * ( 1 - test_size )):])\n",
        "  return X_train, y_train, X_test, y_test"
      ]
    },
    {
      "cell_type": "code",
      "execution_count": null,
      "metadata": {
        "id": "CFBK60-Kq8XN"
      },
      "outputs": [],
      "source": [
        "# Create a function to plot time series data\n",
        "def plot_time_series(timesteps, values, format='.', start=0, end=None, label=None):\n",
        "  \"\"\"\n",
        "  Plots a timesteps (a series of points in time) against values (a series of values across timesteps).\n",
        "  \n",
        "  Parameters\n",
        "  ---------\n",
        "  timesteps : array of timesteps\n",
        "  values : array of values across time\n",
        "  format : style of plot, default \".\"\n",
        "  start : where to start the plot (setting a value will index from start of timesteps & values)\n",
        "  end : where to end the plot (setting a value will index from end of timesteps & values)\n",
        "  label : label to show on plot of values\n",
        "  \"\"\"\n",
        "  # Plot the series\n",
        "  plt.plot(timesteps[start:end], values[start:end], format, label=label)\n",
        "  plt.xlabel(\"Time\")\n",
        "  plt.ylabel(\"Population\")\n",
        "  if label:\n",
        "    plt.legend(fontsize=14) # make label bigger\n",
        "  plt.grid(True)\n",
        "     "
      ]
    },
    {
      "cell_type": "code",
      "execution_count": null,
      "metadata": {
        "id": "-9z8AYu4q9pt"
      },
      "outputs": [],
      "source": [
        "def evaluate_preds(y_true, y_pred):\n",
        "  y_true = tf.cast(y_true, dtype=tf.float32)\n",
        "  y_pred = tf.cast(y_pred, dtype=tf.float32)\n",
        "  mae = tf.keras.metrics.mean_absolute_error(y_true, y_pred)\n",
        "  mse = tf.keras.metrics.mean_squared_error(y_true, y_pred)\n",
        "  rmse = tf.sqrt(mse)\n",
        "  mape = tf.keras.metrics.mean_absolute_percentage_error(y_true, y_pred)\n",
        "  \n",
        "  return {\"mae\": mae.numpy(),\n",
        "          \"mse\": mse.numpy(),\n",
        "          \"rmse\": rmse.numpy(),\n",
        "          \"mape\": mape.numpy()}"
      ]
    },
    {
      "cell_type": "code",
      "execution_count": null,
      "metadata": {
        "id": "mUfg98gvq-9N"
      },
      "outputs": [],
      "source": [
        "# HYPERPARAMETERS\n",
        "\n",
        "HORIZON = 1 # predict 1 step at a time\n",
        "WINDOW_SIZE = 10 # use a week worth of timesteps to predict the horizon\n"
      ]
    },
    {
      "cell_type": "code",
      "execution_count": null,
      "metadata": {
        "id": "xUspNa2rrDR-"
      },
      "outputs": [],
      "source": [
        "def get_labelled_windows(x, horizon):\n",
        "  return x[:, :-horizon], x[:, -horizon:]"
      ]
    },
    {
      "cell_type": "code",
      "execution_count": null,
      "metadata": {
        "id": "1CdVpCYVrGDu"
      },
      "outputs": [],
      "source": [
        "def make_windows(x, window_size=7, horizon=1):\n",
        "  window_step = np.expand_dims(np.arange(window_size+horizon), axis=0)\n",
        "  window_indexes = window_step + np.expand_dims(np.arange(len(x)-(window_size+horizon-1)), axis=0).T\n",
        "  windowed_array = x[window_indexes]\n",
        "  windows, labels = get_labelled_windows(windowed_array, horizon=horizon)\n",
        "\n",
        "  return windows, labels"
      ]
    },
    {
      "cell_type": "code",
      "execution_count": null,
      "metadata": {
        "id": "VdIf942srGSu"
      },
      "outputs": [],
      "source": [
        "values = np.array(df.reset_index()['value'])\n",
        "timestamps = np.array(np.array(df.index))"
      ]
    },
    {
      "cell_type": "code",
      "execution_count": null,
      "metadata": {
        "colab": {
          "base_uri": "https://localhost:8080/"
        },
        "id": "e8azcjU1rSaY",
        "outputId": "b313c812-e27d-41ac-c237-9094115f5ece"
      },
      "outputs": [
        {
          "output_type": "execute_result",
          "data": {
            "text/plain": [
              "array([156309., 156527., 156731., 156943., 157140., 157343., 157553.,\n",
              "       157798., 158053., 158306.])"
            ]
          },
          "metadata": {},
          "execution_count": 12
        }
      ],
      "source": [
        "values[:10]"
      ]
    },
    {
      "cell_type": "code",
      "execution_count": null,
      "metadata": {
        "colab": {
          "base_uri": "https://localhost:8080/"
        },
        "id": "p7Mx1B2trSop",
        "outputId": "1b42181d-eead-4215-d88c-3ea66072756d"
      },
      "outputs": [
        {
          "output_type": "execute_result",
          "data": {
            "text/plain": [
              "array(['1952-01-01T00:00:00.000000000', '1952-02-01T00:00:00.000000000',\n",
              "       '1952-03-01T00:00:00.000000000', '1952-04-01T00:00:00.000000000',\n",
              "       '1952-05-01T00:00:00.000000000', '1952-06-01T00:00:00.000000000',\n",
              "       '1952-07-01T00:00:00.000000000', '1952-08-01T00:00:00.000000000',\n",
              "       '1952-09-01T00:00:00.000000000', '1952-10-01T00:00:00.000000000'],\n",
              "      dtype='datetime64[ns]')"
            ]
          },
          "metadata": {},
          "execution_count": 13
        }
      ],
      "source": [
        "timestamps[:10]"
      ]
    },
    {
      "cell_type": "code",
      "execution_count": null,
      "metadata": {
        "id": "VaK6GPs_rUVJ"
      },
      "outputs": [],
      "source": [
        "full_windows, full_labels = make_windows(values, window_size=WINDOW_SIZE, horizon=HORIZON)"
      ]
    },
    {
      "cell_type": "code",
      "execution_count": null,
      "metadata": {
        "colab": {
          "base_uri": "https://localhost:8080/"
        },
        "id": "AxIpoak9rVoA",
        "outputId": "ab0c4b92-1525-45c1-cacf-3035be4e35b0"
      },
      "outputs": [
        {
          "output_type": "execute_result",
          "data": {
            "text/plain": [
              "array([156309., 156527., 156731., 156943., 157140., 157343., 157553.,\n",
              "       157798., 158053., 158306.])"
            ]
          },
          "metadata": {},
          "execution_count": 15
        }
      ],
      "source": [
        "full_windows[0]"
      ]
    },
    {
      "cell_type": "code",
      "execution_count": null,
      "metadata": {
        "colab": {
          "base_uri": "https://localhost:8080/"
        },
        "id": "hh-RE0PorXNQ",
        "outputId": "9df21f09-f829-453b-f13f-c4c7ef340309"
      },
      "outputs": [
        {
          "output_type": "execute_result",
          "data": {
            "text/plain": [
              "array([158451.])"
            ]
          },
          "metadata": {},
          "execution_count": 16
        }
      ],
      "source": [
        "full_labels[0]"
      ]
    },
    {
      "cell_type": "code",
      "execution_count": null,
      "metadata": {
        "colab": {
          "base_uri": "https://localhost:8080/"
        },
        "id": "8LKrGkNarYZo",
        "outputId": "1e31181c-4bdc-4a32-f6c4-247a1ee56bd8"
      },
      "outputs": [
        {
          "output_type": "execute_result",
          "data": {
            "text/plain": [
              "array([156309., 156527., 156731., 156943., 157140., 157343., 157553.,\n",
              "       157798., 158053., 158306., 158451.])"
            ]
          },
          "metadata": {},
          "execution_count": 17
        }
      ],
      "source": [
        "values[:11]"
      ]
    },
    {
      "cell_type": "code",
      "execution_count": null,
      "metadata": {
        "colab": {
          "base_uri": "https://localhost:8080/"
        },
        "id": "_30WWGzxrZkH",
        "outputId": "d640a20c-4419-48b9-88dd-b360e4057590"
      },
      "outputs": [
        {
          "output_type": "execute_result",
          "data": {
            "text/plain": [
              "(644, 644, 162, 162)"
            ]
          },
          "metadata": {},
          "execution_count": 18
        }
      ],
      "source": [
        "train_windows, train_labels, test_windows, test_labels = train_val_test_split(full_windows,\n",
        "                                                                              full_labels,\n",
        "                                                                              test_size=0.2)\n",
        "len(train_windows), len(train_labels),len(test_windows), len(test_labels)"
      ]
    },
    {
      "cell_type": "code",
      "execution_count": null,
      "metadata": {
        "id": "_70k3k8vrar5"
      },
      "outputs": [],
      "source": [
        "# Create a function to implement a ModelCheckpoint callback with a specific filename \n",
        "def create_model_checkpoint(model_name, save_path=\"model_experiments\"):\n",
        "  return tf.keras.callbacks.ModelCheckpoint(filepath=os.path.join(save_path, model_name),\n",
        "                                            monitor='val_mae',\n",
        "                                            mode='min',\n",
        "                                            save_best_only=True) # save only the best model to file"
      ]
    },
    {
      "cell_type": "code",
      "execution_count": null,
      "metadata": {
        "id": "PIIbeP5_rcW5"
      },
      "outputs": [],
      "source": [
        "def build_model():\n",
        "    inputs = tf.keras.layers.Input(shape=(WINDOW_SIZE))\n",
        "    x = tf.keras.layers.Lambda(lambda x: tf.expand_dims(x, axis=1))(inputs)\n",
        "    x = tf.keras.layers.LSTM(64, activation=\"relu\",return_sequences=True, recurrent_dropout=0.1)(x)\n",
        "    x = tf.keras.layers.LSTM(128, activation=\"relu\",return_sequences=False, recurrent_dropout=0.1)(x)\n",
        "    output = tf.keras.layers.Dense(HORIZON)(x)\n",
        "    model = tf.keras.Model(inputs=inputs, outputs=output, name=\"model_1_lstm\")\n",
        "\n",
        "    model.compile(loss=\"mae\",\n",
        "                  optimizer=tf.keras.optimizers.Adam(1e-3),\n",
        "                  metrics=['mae'])\n",
        "    return model"
      ]
    },
    {
      "cell_type": "code",
      "execution_count": null,
      "metadata": {
        "colab": {
          "base_uri": "https://localhost:8080/"
        },
        "id": "Cegfm8GsrfyB",
        "outputId": "5d995bf6-7a3e-4890-ade3-9713ea277c17"
      },
      "outputs": [
        {
          "output_type": "stream",
          "name": "stderr",
          "text": [
            "WARNING:tensorflow:Layer lstm will not use cuDNN kernels since it doesn't meet the criteria. It will use a generic GPU kernel as fallback when running on GPU.\n",
            "WARNING:tensorflow:Layer lstm_1 will not use cuDNN kernels since it doesn't meet the criteria. It will use a generic GPU kernel as fallback when running on GPU.\n"
          ]
        },
        {
          "output_type": "stream",
          "name": "stdout",
          "text": [
            "Epoch 1/100\n",
            "19/19 [==============================] - 9s 289ms/step - loss: 204425.4844 - mae: 204425.4844 - val_loss: 261056.7344 - val_mae: 261056.7344\n",
            "Epoch 2/100\n",
            "19/19 [==============================] - 6s 311ms/step - loss: 189139.9375 - mae: 189139.9375 - val_loss: 235837.6406 - val_mae: 235837.6406\n",
            "Epoch 3/100\n",
            "19/19 [==============================] - 5s 301ms/step - loss: 166237.6406 - mae: 166237.6406 - val_loss: 198382.0469 - val_mae: 198382.0469\n",
            "Epoch 4/100\n",
            "19/19 [==============================] - 5s 265ms/step - loss: 129164.0234 - mae: 129164.0234 - val_loss: 131038.0625 - val_mae: 131038.0625\n",
            "Epoch 5/100\n",
            "19/19 [==============================] - 5s 263ms/step - loss: 66831.0000 - mae: 66831.0000 - val_loss: 27621.4648 - val_mae: 27621.4648\n",
            "Epoch 6/100\n",
            "19/19 [==============================] - 4s 245ms/step - loss: 9773.6709 - mae: 9773.6709 - val_loss: 2431.2410 - val_mae: 2431.2410\n",
            "Epoch 7/100\n",
            "19/19 [==============================] - 5s 270ms/step - loss: 2290.2324 - mae: 2290.2324 - val_loss: 180.1755 - val_mae: 180.1755\n",
            "Epoch 8/100\n",
            "19/19 [==============================] - 0s 12ms/step - loss: 575.4031 - mae: 575.4031 - val_loss: 557.2308 - val_mae: 557.2308\n",
            "Epoch 9/100\n",
            "19/19 [==============================] - 0s 13ms/step - loss: 265.9613 - mae: 265.9613 - val_loss: 587.4678 - val_mae: 587.4678\n",
            "Epoch 10/100\n",
            "19/19 [==============================] - 0s 12ms/step - loss: 341.0422 - mae: 341.0422 - val_loss: 802.8433 - val_mae: 802.8433\n",
            "Epoch 11/100\n",
            "19/19 [==============================] - 0s 13ms/step - loss: 319.4516 - mae: 319.4516 - val_loss: 433.1447 - val_mae: 433.1447\n",
            "Epoch 12/100\n",
            "19/19 [==============================] - 4s 245ms/step - loss: 267.8678 - mae: 267.8678 - val_loss: 159.2462 - val_mae: 159.2462\n",
            "Epoch 13/100\n",
            "19/19 [==============================] - 0s 14ms/step - loss: 285.1621 - mae: 285.1621 - val_loss: 282.2784 - val_mae: 282.2784\n",
            "Epoch 14/100\n",
            "19/19 [==============================] - 0s 13ms/step - loss: 331.3063 - mae: 331.3063 - val_loss: 431.3510 - val_mae: 431.3510\n",
            "Epoch 15/100\n",
            "19/19 [==============================] - 0s 12ms/step - loss: 259.0502 - mae: 259.0502 - val_loss: 1048.6379 - val_mae: 1048.6379\n",
            "Epoch 16/100\n",
            "19/19 [==============================] - 0s 12ms/step - loss: 295.6530 - mae: 295.6530 - val_loss: 381.2923 - val_mae: 381.2923\n",
            "Epoch 17/100\n",
            "19/19 [==============================] - 5s 268ms/step - loss: 252.0960 - mae: 252.0960 - val_loss: 154.2514 - val_mae: 154.2514\n",
            "Epoch 18/100\n",
            "19/19 [==============================] - 0s 12ms/step - loss: 268.3169 - mae: 268.3169 - val_loss: 306.1793 - val_mae: 306.1793\n",
            "Epoch 19/100\n",
            "19/19 [==============================] - 0s 13ms/step - loss: 243.3170 - mae: 243.3170 - val_loss: 171.8010 - val_mae: 171.8010\n",
            "Epoch 20/100\n",
            "19/19 [==============================] - 0s 12ms/step - loss: 250.8889 - mae: 250.8889 - val_loss: 273.8389 - val_mae: 273.8389\n",
            "Epoch 21/100\n",
            "19/19 [==============================] - 0s 13ms/step - loss: 297.1390 - mae: 297.1390 - val_loss: 1292.2852 - val_mae: 1292.2852\n",
            "Epoch 22/100\n",
            "19/19 [==============================] - 0s 12ms/step - loss: 332.2444 - mae: 332.2444 - val_loss: 747.0149 - val_mae: 747.0149\n",
            "Epoch 23/100\n",
            "19/19 [==============================] - 0s 13ms/step - loss: 274.1435 - mae: 274.1435 - val_loss: 651.3803 - val_mae: 651.3803\n",
            "Epoch 24/100\n",
            "19/19 [==============================] - 0s 14ms/step - loss: 604.7527 - mae: 604.7527 - val_loss: 243.8091 - val_mae: 243.8091\n",
            "Epoch 25/100\n",
            "19/19 [==============================] - 0s 14ms/step - loss: 381.0565 - mae: 381.0565 - val_loss: 638.0293 - val_mae: 638.0293\n",
            "Epoch 26/100\n",
            "19/19 [==============================] - 0s 14ms/step - loss: 290.0839 - mae: 290.0839 - val_loss: 489.3240 - val_mae: 489.3240\n",
            "Epoch 27/100\n",
            "19/19 [==============================] - 0s 14ms/step - loss: 290.6340 - mae: 290.6340 - val_loss: 510.8101 - val_mae: 510.8101\n",
            "Epoch 28/100\n",
            "19/19 [==============================] - 0s 14ms/step - loss: 438.8398 - mae: 438.8398 - val_loss: 295.7269 - val_mae: 295.7269\n",
            "Epoch 29/100\n",
            "19/19 [==============================] - 5s 265ms/step - loss: 260.9675 - mae: 260.9675 - val_loss: 108.5548 - val_mae: 108.5548\n",
            "Epoch 30/100\n",
            "19/19 [==============================] - 0s 12ms/step - loss: 278.7529 - mae: 278.7529 - val_loss: 252.5404 - val_mae: 252.5404\n",
            "Epoch 31/100\n",
            "19/19 [==============================] - 0s 13ms/step - loss: 267.8615 - mae: 267.8615 - val_loss: 180.2942 - val_mae: 180.2942\n",
            "Epoch 32/100\n",
            "19/19 [==============================] - 0s 12ms/step - loss: 316.9005 - mae: 316.9005 - val_loss: 440.0476 - val_mae: 440.0476\n",
            "Epoch 33/100\n",
            "19/19 [==============================] - 0s 13ms/step - loss: 309.9983 - mae: 309.9983 - val_loss: 559.1721 - val_mae: 559.1721\n",
            "Epoch 34/100\n",
            "19/19 [==============================] - 0s 21ms/step - loss: 328.6576 - mae: 328.6576 - val_loss: 291.7231 - val_mae: 291.7231\n",
            "Epoch 35/100\n",
            "19/19 [==============================] - 0s 13ms/step - loss: 251.9389 - mae: 251.9389 - val_loss: 272.6101 - val_mae: 272.6101\n",
            "Epoch 36/100\n",
            "19/19 [==============================] - 0s 12ms/step - loss: 422.2518 - mae: 422.2518 - val_loss: 424.4067 - val_mae: 424.4067\n",
            "Epoch 37/100\n",
            "19/19 [==============================] - 0s 20ms/step - loss: 380.4915 - mae: 380.4915 - val_loss: 229.7043 - val_mae: 229.7043\n",
            "Epoch 38/100\n",
            "19/19 [==============================] - 0s 14ms/step - loss: 330.3487 - mae: 330.3487 - val_loss: 916.6024 - val_mae: 916.6024\n",
            "Epoch 39/100\n",
            "19/19 [==============================] - 0s 12ms/step - loss: 356.7625 - mae: 356.7625 - val_loss: 556.7072 - val_mae: 556.7072\n",
            "Epoch 40/100\n",
            "19/19 [==============================] - 0s 21ms/step - loss: 356.9529 - mae: 356.9529 - val_loss: 202.3539 - val_mae: 202.3539\n",
            "Epoch 41/100\n",
            "19/19 [==============================] - 0s 13ms/step - loss: 315.9703 - mae: 315.9703 - val_loss: 161.0755 - val_mae: 161.0755\n",
            "Epoch 42/100\n",
            "19/19 [==============================] - 4s 243ms/step - loss: 294.8766 - mae: 294.8766 - val_loss: 107.0663 - val_mae: 107.0663\n",
            "Epoch 43/100\n",
            "19/19 [==============================] - 0s 12ms/step - loss: 267.9689 - mae: 267.9689 - val_loss: 124.5043 - val_mae: 124.5043\n",
            "Epoch 44/100\n",
            "19/19 [==============================] - 0s 13ms/step - loss: 272.5062 - mae: 272.5062 - val_loss: 922.5822 - val_mae: 922.5822\n",
            "Epoch 45/100\n",
            "19/19 [==============================] - 0s 12ms/step - loss: 418.1062 - mae: 418.1062 - val_loss: 193.9038 - val_mae: 193.9038\n",
            "Epoch 46/100\n",
            "19/19 [==============================] - 0s 13ms/step - loss: 286.8827 - mae: 286.8827 - val_loss: 1172.6221 - val_mae: 1172.6221\n",
            "Epoch 47/100\n",
            "19/19 [==============================] - 0s 12ms/step - loss: 433.8047 - mae: 433.8047 - val_loss: 332.9803 - val_mae: 332.9803\n",
            "Epoch 48/100\n",
            "19/19 [==============================] - 0s 12ms/step - loss: 309.1808 - mae: 309.1808 - val_loss: 221.7644 - val_mae: 221.7644\n",
            "Epoch 49/100\n",
            "19/19 [==============================] - 0s 12ms/step - loss: 346.0948 - mae: 346.0948 - val_loss: 816.8812 - val_mae: 816.8812\n",
            "Epoch 50/100\n",
            "19/19 [==============================] - 0s 12ms/step - loss: 645.2037 - mae: 645.2037 - val_loss: 510.4606 - val_mae: 510.4606\n",
            "Epoch 51/100\n",
            "19/19 [==============================] - 5s 266ms/step - loss: 514.6446 - mae: 514.6446 - val_loss: 66.3601 - val_mae: 66.3601\n",
            "Epoch 52/100\n",
            "19/19 [==============================] - 0s 12ms/step - loss: 283.6298 - mae: 283.6298 - val_loss: 324.4154 - val_mae: 324.4154\n",
            "Epoch 53/100\n",
            "19/19 [==============================] - 0s 13ms/step - loss: 417.7910 - mae: 417.7910 - val_loss: 404.1548 - val_mae: 404.1548\n",
            "Epoch 54/100\n",
            "19/19 [==============================] - 5s 280ms/step - loss: 237.8869 - mae: 237.8869 - val_loss: 63.6817 - val_mae: 63.6817\n",
            "Epoch 55/100\n",
            "19/19 [==============================] - 0s 12ms/step - loss: 293.0144 - mae: 293.0144 - val_loss: 568.8442 - val_mae: 568.8442\n",
            "Epoch 56/100\n",
            "19/19 [==============================] - 0s 12ms/step - loss: 290.3701 - mae: 290.3701 - val_loss: 97.0582 - val_mae: 97.0582\n",
            "Epoch 57/100\n",
            "19/19 [==============================] - 0s 12ms/step - loss: 291.8308 - mae: 291.8308 - val_loss: 431.8640 - val_mae: 431.8640\n",
            "Epoch 58/100\n",
            "19/19 [==============================] - 0s 13ms/step - loss: 278.2483 - mae: 278.2483 - val_loss: 550.5087 - val_mae: 550.5087\n",
            "Epoch 59/100\n",
            "19/19 [==============================] - 0s 13ms/step - loss: 437.2401 - mae: 437.2401 - val_loss: 410.2861 - val_mae: 410.2861\n",
            "Epoch 60/100\n",
            "19/19 [==============================] - 0s 12ms/step - loss: 640.2136 - mae: 640.2136 - val_loss: 305.9750 - val_mae: 305.9750\n",
            "Epoch 61/100\n",
            "19/19 [==============================] - 0s 13ms/step - loss: 286.0632 - mae: 286.0632 - val_loss: 464.9760 - val_mae: 464.9760\n",
            "Epoch 62/100\n",
            "19/19 [==============================] - 0s 13ms/step - loss: 270.5367 - mae: 270.5367 - val_loss: 110.2101 - val_mae: 110.2101\n",
            "Epoch 63/100\n",
            "19/19 [==============================] - 0s 13ms/step - loss: 284.6393 - mae: 284.6393 - val_loss: 751.0798 - val_mae: 751.0798\n",
            "Epoch 64/100\n",
            "19/19 [==============================] - 0s 13ms/step - loss: 409.2936 - mae: 409.2936 - val_loss: 674.6221 - val_mae: 674.6221\n",
            "Epoch 65/100\n",
            "19/19 [==============================] - 0s 13ms/step - loss: 604.7597 - mae: 604.7597 - val_loss: 249.3188 - val_mae: 249.3188\n",
            "Epoch 66/100\n",
            "19/19 [==============================] - 0s 12ms/step - loss: 389.2061 - mae: 389.2061 - val_loss: 85.8851 - val_mae: 85.8851\n",
            "Epoch 67/100\n",
            "19/19 [==============================] - 0s 13ms/step - loss: 381.8719 - mae: 381.8719 - val_loss: 515.2043 - val_mae: 515.2043\n",
            "Epoch 68/100\n",
            "19/19 [==============================] - 0s 13ms/step - loss: 344.8683 - mae: 344.8683 - val_loss: 187.6870 - val_mae: 187.6870\n",
            "Epoch 69/100\n",
            "19/19 [==============================] - 0s 13ms/step - loss: 310.3554 - mae: 310.3554 - val_loss: 174.6721 - val_mae: 174.6721\n",
            "Epoch 70/100\n",
            "19/19 [==============================] - 0s 12ms/step - loss: 255.3938 - mae: 255.3938 - val_loss: 283.2673 - val_mae: 283.2673\n",
            "Epoch 71/100\n",
            "19/19 [==============================] - 0s 13ms/step - loss: 499.2667 - mae: 499.2667 - val_loss: 1410.6597 - val_mae: 1410.6597\n",
            "Epoch 72/100\n",
            "19/19 [==============================] - 0s 12ms/step - loss: 476.0282 - mae: 476.0282 - val_loss: 314.3740 - val_mae: 314.3740\n",
            "Epoch 73/100\n",
            "19/19 [==============================] - 0s 12ms/step - loss: 587.9733 - mae: 587.9733 - val_loss: 813.4745 - val_mae: 813.4745\n",
            "Epoch 74/100\n",
            "19/19 [==============================] - 0s 13ms/step - loss: 428.2558 - mae: 428.2558 - val_loss: 84.8149 - val_mae: 84.8149\n",
            "Epoch 75/100\n",
            "19/19 [==============================] - 0s 13ms/step - loss: 271.1015 - mae: 271.1015 - val_loss: 908.2971 - val_mae: 908.2971\n",
            "Epoch 76/100\n",
            "19/19 [==============================] - 0s 13ms/step - loss: 584.5077 - mae: 584.5077 - val_loss: 1093.5496 - val_mae: 1093.5496\n",
            "Epoch 77/100\n",
            "19/19 [==============================] - 0s 13ms/step - loss: 425.1141 - mae: 425.1141 - val_loss: 595.0101 - val_mae: 595.0101\n",
            "Epoch 78/100\n",
            "19/19 [==============================] - 0s 13ms/step - loss: 291.6613 - mae: 291.6613 - val_loss: 853.5490 - val_mae: 853.5490\n",
            "Epoch 79/100\n",
            "19/19 [==============================] - 0s 12ms/step - loss: 481.2394 - mae: 481.2394 - val_loss: 1131.3082 - val_mae: 1131.3082\n",
            "Epoch 80/100\n",
            "19/19 [==============================] - 0s 12ms/step - loss: 492.4583 - mae: 492.4583 - val_loss: 1229.9966 - val_mae: 1229.9966\n",
            "Epoch 81/100\n",
            "19/19 [==============================] - 0s 12ms/step - loss: 558.4480 - mae: 558.4480 - val_loss: 1136.5586 - val_mae: 1136.5586\n",
            "Epoch 82/100\n",
            "19/19 [==============================] - 0s 12ms/step - loss: 472.9237 - mae: 472.9237 - val_loss: 567.0986 - val_mae: 567.0986\n",
            "Epoch 83/100\n",
            "19/19 [==============================] - 0s 12ms/step - loss: 285.0697 - mae: 285.0697 - val_loss: 402.0760 - val_mae: 402.0760\n",
            "Epoch 84/100\n",
            "19/19 [==============================] - 0s 12ms/step - loss: 286.7585 - mae: 286.7585 - val_loss: 386.3341 - val_mae: 386.3341\n",
            "Epoch 85/100\n",
            "19/19 [==============================] - 0s 12ms/step - loss: 272.5815 - mae: 272.5815 - val_loss: 152.0774 - val_mae: 152.0774\n",
            "Epoch 86/100\n",
            "19/19 [==============================] - 0s 12ms/step - loss: 348.1035 - mae: 348.1035 - val_loss: 421.9750 - val_mae: 421.9750\n",
            "Epoch 87/100\n",
            "19/19 [==============================] - 0s 12ms/step - loss: 374.9240 - mae: 374.9240 - val_loss: 405.7067 - val_mae: 405.7067\n",
            "Epoch 88/100\n",
            "19/19 [==============================] - 0s 12ms/step - loss: 510.6091 - mae: 510.6091 - val_loss: 71.8139 - val_mae: 71.8139\n",
            "Epoch 89/100\n",
            "19/19 [==============================] - 0s 12ms/step - loss: 417.2298 - mae: 417.2298 - val_loss: 442.8942 - val_mae: 442.8942\n",
            "Epoch 90/100\n",
            "19/19 [==============================] - 0s 13ms/step - loss: 528.4860 - mae: 528.4860 - val_loss: 786.6240 - val_mae: 786.6240\n",
            "Epoch 91/100\n",
            "19/19 [==============================] - 0s 12ms/step - loss: 315.9356 - mae: 315.9356 - val_loss: 1154.6764 - val_mae: 1154.6764\n",
            "Epoch 92/100\n",
            "19/19 [==============================] - 0s 12ms/step - loss: 708.9325 - mae: 708.9325 - val_loss: 883.7769 - val_mae: 883.7769\n",
            "Epoch 93/100\n",
            "19/19 [==============================] - 0s 12ms/step - loss: 319.8150 - mae: 319.8150 - val_loss: 142.5173 - val_mae: 142.5173\n",
            "Epoch 94/100\n",
            "19/19 [==============================] - 0s 12ms/step - loss: 319.5596 - mae: 319.5596 - val_loss: 140.8332 - val_mae: 140.8332\n",
            "Epoch 95/100\n",
            "19/19 [==============================] - 0s 12ms/step - loss: 429.4592 - mae: 429.4592 - val_loss: 743.8851 - val_mae: 743.8851\n",
            "Epoch 96/100\n",
            "19/19 [==============================] - 0s 12ms/step - loss: 720.7714 - mae: 720.7714 - val_loss: 388.4510 - val_mae: 388.4510\n",
            "Epoch 97/100\n",
            "19/19 [==============================] - 0s 12ms/step - loss: 376.0600 - mae: 376.0600 - val_loss: 255.3130 - val_mae: 255.3130\n",
            "Epoch 98/100\n",
            "19/19 [==============================] - 0s 12ms/step - loss: 338.6741 - mae: 338.6741 - val_loss: 326.8870 - val_mae: 326.8870\n",
            "Epoch 99/100\n",
            "19/19 [==============================] - 0s 12ms/step - loss: 479.3649 - mae: 479.3649 - val_loss: 445.4707 - val_mae: 445.4707\n",
            "Epoch 100/100\n",
            "19/19 [==============================] - 0s 12ms/step - loss: 307.9707 - mae: 307.9707 - val_loss: 96.6966 - val_mae: 96.6966\n"
          ]
        }
      ],
      "source": [
        "model_1 = build_model()\n",
        "history = model_1.fit(train_windows,\n",
        "            train_labels,\n",
        "            epochs=100,\n",
        "            validation_split = .1,\n",
        "            callbacks=[create_model_checkpoint(model_name=model_1.name)])"
      ]
    },
    {
      "cell_type": "code",
      "execution_count": null,
      "metadata": {
        "colab": {
          "base_uri": "https://localhost:8080/"
        },
        "id": "hK6Nqeyfrjlh",
        "outputId": "cd6535d5-d006-444e-ff3e-0479f3e91c76"
      },
      "outputs": [
        {
          "output_type": "stream",
          "name": "stderr",
          "text": [
            "WARNING:tensorflow:Layer lstm will not use cuDNN kernels since it doesn't meet the criteria. It will use a generic GPU kernel as fallback when running on GPU.\n",
            "WARNING:tensorflow:Layer lstm_1 will not use cuDNN kernels since it doesn't meet the criteria. It will use a generic GPU kernel as fallback when running on GPU.\n"
          ]
        },
        {
          "output_type": "stream",
          "name": "stdout",
          "text": [
            "Model: \"model_1_lstm\"\n",
            "_________________________________________________________________\n",
            " Layer (type)                Output Shape              Param #   \n",
            "=================================================================\n",
            " input_1 (InputLayer)        [(None, 10)]              0         \n",
            "                                                                 \n",
            " lambda (Lambda)             (None, 1, 10)             0         \n",
            "                                                                 \n",
            " lstm (LSTM)                 (None, 1, 64)             19200     \n",
            "                                                                 \n",
            " lstm_1 (LSTM)               (None, 128)               98816     \n",
            "                                                                 \n",
            " dense (Dense)               (None, 1)                 129       \n",
            "                                                                 \n",
            "=================================================================\n",
            "Total params: 118,145\n",
            "Trainable params: 118,145\n",
            "Non-trainable params: 0\n",
            "_________________________________________________________________\n"
          ]
        }
      ],
      "source": [
        "model_1 = tf.keras.models.load_model('/content/model_experiments/model_1_lstm')\n",
        "model_1.summary()"
      ]
    },
    {
      "cell_type": "code",
      "execution_count": null,
      "metadata": {
        "id": "SVMJ92Burt0L"
      },
      "outputs": [],
      "source": [
        "def plot_history(history, zoom = True):\n",
        "  plt.figure(figsize=(10,7))\n",
        "  loss = history.history['loss']\n",
        "  val_loss = history.history['val_loss']\n",
        "  plt.plot(loss, label = 'training_loss')\n",
        "  plt.plot(val_loss, label = 'validation_loss')\n",
        "  plt.legend()\n",
        "  plt.show()\n",
        "  \n",
        "  if zoom:\n",
        "    plt.figure(figsize=(10,7))\n",
        "    loss = history.history['loss'][70:]\n",
        "    val_loss = history.history['val_loss'][70:]\n",
        "    plt.plot(loss, label = 'training_loss')\n",
        "    plt.plot(val_loss, label = 'validation_loss')\n",
        "    plt.legend()\n",
        "    plt.show()"
      ]
    },
    {
      "cell_type": "code",
      "execution_count": null,
      "metadata": {
        "colab": {
          "base_uri": "https://localhost:8080/",
          "height": 839
        },
        "id": "81au5vm3ruHT",
        "outputId": "5fd6d0ee-6e41-4c84-b75b-bf5dc5d80c1c"
      },
      "outputs": [
        {
          "output_type": "display_data",
          "data": {
            "text/plain": [
              "<Figure size 720x504 with 1 Axes>"
            ],
            "image/png": "[encoded data removed]"
          },
          "metadata": {
            "needs_background": "light"
          }
        },
        {
          "output_type": "display_data",
          "data": {
            "text/plain": [
              "<Figure size 720x504 with 1 Axes>"
            ],
            "image/png": "[encoded data removed]"
          },
          "metadata": {
            "needs_background": "light"
          }
        }
      ],
      "source": [
        "plot_history(history, zoom = True)"
      ]
    },
    {
      "cell_type": "code",
      "execution_count": null,
      "metadata": {
        "id": "Nt_ej_4GrzGl"
      },
      "outputs": [],
      "source": [
        "def make_preds(model, input_data):\n",
        "  \"\"\"\n",
        "  Uses model to make predictions on input_data.\n",
        "\n",
        "  Parameters\n",
        "  ----------\n",
        "  model: trained model \n",
        "  input_data: windowed input data (same kind of data model was trained on)\n",
        "\n",
        "  Returns model predictions on input_data.\n",
        "  \"\"\"\n",
        "  forecast = model.predict(input_data)\n",
        "  return tf.squeeze(forecast) # return 1D array of predictions\n",
        "     "
      ]
    },
    {
      "cell_type": "code",
      "execution_count": null,
      "metadata": {
        "colab": {
          "base_uri": "https://localhost:8080/"
        },
        "id": "n691I_WKr0e9",
        "outputId": "d54c04bf-100a-4e45-bfeb-022ae4c98d7d"
      },
      "outputs": [
        {
          "output_type": "stream",
          "name": "stdout",
          "text": [
            "6/6 [==============================] - 0s 3ms/step\n"
          ]
        }
      ],
      "source": [
        "model_1_preds = make_preds(model_1, test_windows)"
      ]
    },
    {
      "cell_type": "code",
      "source": [
        "plt.figure(figsize=(10,7))\n",
        "plt.plot(model_1_preds[50:], label = 'Predicted')\n",
        "plt.plot(tf.squeeze(test_labels)[50:], label = 'Actual')\n",
        "plt.title('Prediction vs Actual Model 1')\n",
        "plt.legend();"
      ],
      "metadata": {
        "colab": {
          "base_uri": "https://localhost:8080/",
          "height": 444
        },
        "id": "AmNWyWkzxgkx",
        "outputId": "047766f7-e5e4-41f1-a342-f06b7ff9273f"
      },
      "execution_count": null,
      "outputs": [
        {
          "output_type": "display_data",
          "data": {
            "text/plain": [
              "<Figure size 720x504 with 1 Axes>"
            ],
            "image/png": "[encoded data removed]"
          },
          "metadata": {
            "needs_background": "light"
          }
        }
      ]
    },
    {
      "cell_type": "code",
      "source": [
        "evaluate_preds(tf.squeeze(test_labels), model_1_preds)"
      ],
      "metadata": {
        "colab": {
          "base_uri": "https://localhost:8080/"
        },
        "id": "7VgT2lHkxiWY",
        "outputId": "756a92f1-5c49-4074-80db-41acc7d87bef"
      },
      "execution_count": null,
      "outputs": [
        {
          "output_type": "execute_result",
          "data": {
            "text/plain": [
              "{'mae': 343.9479, 'mse': 149989.38, 'rmse': 387.2846, 'mape': 0.10767857}"
            ]
          },
          "metadata": {},
          "execution_count": 37
        }
      ]
    },
    {
      "cell_type": "code",
      "source": [
        "def build_model(hp):\n",
        "    inputs = tf.keras.layers.Input(shape=(WINDOW_SIZE))\n",
        "    x = tf.keras.layers.Lambda(lambda x: tf.expand_dims(x, axis=1))(inputs)\n",
        "    x = tf.keras.layers.LSTM(hp.Int('units', min_value=16, max_value=128, step =16 ), activation=\"relu\",return_sequences=True, recurrent_dropout=0.1)(x) # using the tanh loss function results in a massive error\n",
        "    x = tf.keras.layers.LSTM(hp.Int('units', min_value=32, max_value=256, step =64), activation=\"relu\",return_sequences=True, recurrent_dropout=0.1)(x)\n",
        "    output = tf.keras.layers.Dense(HORIZON)(x)\n",
        "    model_1 = tf.keras.Model(inputs=inputs, outputs=output, name=\"model_1_lstm\")\n",
        "\n",
        "    model_1.compile(loss=\"mae\",\n",
        "                  optimizer=tf.keras.optimizers.Adam(hp.Choice('learning_rate', values = [1e-3, 1.5e-3, 1e-4])),\n",
        "                  metrics=['mae'])\n",
        "    return model_1\n"
      ],
      "metadata": {
        "id": "B5jo9KtRxsMj"
      },
      "execution_count": null,
      "outputs": []
    },
    {
      "cell_type": "code",
      "source": [
        "tuner = RandomSearch(build_model, objective='loss', max_trials=50, executions_per_trial=3, directory='my_dir',\n",
        "                                 project_name='exp1')\n",
        "tuner.search_space_summary()\n",
        "tuner.search(train_windows, train_labels, epochs=100, verbose=0)\n",
        "tuner.results_summary()"
      ],
      "metadata": {
        "colab": {
          "base_uri": "https://localhost:8080/"
        },
        "id": "jg68g16rxzYr",
        "outputId": "527b51db-51b8-4ebb-832f-43e153a575e1"
      },
      "execution_count": null,
      "outputs": [
        {
          "output_type": "stream",
          "name": "stderr",
          "text": [
            "WARNING:tensorflow:Layer lstm_2 will not use cuDNN kernels since it doesn't meet the criteria. It will use a generic GPU kernel as fallback when running on GPU.\n",
            "WARNING:tensorflow:Layer lstm_3 will not use cuDNN kernels since it doesn't meet the criteria. It will use a generic GPU kernel as fallback when running on GPU.\n"
          ]
        },
        {
          "output_type": "stream",
          "name": "stdout",
          "text": [
            "Search space summary\n",
            "Default search space size: 2\n",
            "units (Int)\n",
            "{'default': None, 'conditions': [], 'min_value': 16, 'max_value': 128, 'step': 16, 'sampling': None}\n",
            "learning_rate (Choice)\n",
            "{'default': 0.001, 'conditions': [], 'values': [0.001, 0.0015, 0.0001], 'ordered': True}\n"
          ]
        },
        {
          "output_type": "stream",
          "name": "stderr",
          "text": [
            "WARNING:tensorflow:Layer lstm will not use cuDNN kernels since it doesn't meet the criteria. It will use a generic GPU kernel as fallback when running on GPU.\n",
            "WARNING:tensorflow:Layer lstm_1 will not use cuDNN kernels since it doesn't meet the criteria. It will use a generic GPU kernel as fallback when running on GPU.\n",
            "WARNING:tensorflow:Layer lstm will not use cuDNN kernels since it doesn't meet the criteria. It will use a generic GPU kernel as fallback when running on GPU.\n",
            "WARNING:tensorflow:Layer lstm_1 will not use cuDNN kernels since it doesn't meet the criteria. It will use a generic GPU kernel as fallback when running on GPU.\n",
            "WARNING:tensorflow:Layer lstm will not use cuDNN kernels since it doesn't meet the criteria. It will use a generic GPU kernel as fallback when running on GPU.\n",
            "WARNING:tensorflow:Layer lstm_1 will not use cuDNN kernels since it doesn't meet the criteria. It will use a generic GPU kernel as fallback when running on GPU.\n",
            "WARNING:tensorflow:Layer lstm will not use cuDNN kernels since it doesn't meet the criteria. It will use a generic GPU kernel as fallback when running on GPU.\n",
            "WARNING:tensorflow:Layer lstm_1 will not use cuDNN kernels since it doesn't meet the criteria. It will use a generic GPU kernel as fallback when running on GPU.\n",
            "WARNING:tensorflow:Layer lstm will not use cuDNN kernels since it doesn't meet the criteria. It will use a generic GPU kernel as fallback when running on GPU.\n",
            "WARNING:tensorflow:Layer lstm_1 will not use cuDNN kernels since it doesn't meet the criteria. It will use a generic GPU kernel as fallback when running on GPU.\n",
            "WARNING:tensorflow:Layer lstm will not use cuDNN kernels since it doesn't meet the criteria. It will use a generic GPU kernel as fallback when running on GPU.\n",
            "WARNING:tensorflow:Layer lstm_1 will not use cuDNN kernels since it doesn't meet the criteria. It will use a generic GPU kernel as fallback when running on GPU.\n",
            "WARNING:tensorflow:Layer lstm will not use cuDNN kernels since it doesn't meet the criteria. It will use a generic GPU kernel as fallback when running on GPU.\n",
            "WARNING:tensorflow:Layer lstm_1 will not use cuDNN kernels since it doesn't meet the criteria. It will use a generic GPU kernel as fallback when running on GPU.\n",
            "WARNING:tensorflow:Layer lstm will not use cuDNN kernels since it doesn't meet the criteria. It will use a generic GPU kernel as fallback when running on GPU.\n",
            "WARNING:tensorflow:Layer lstm_1 will not use cuDNN kernels since it doesn't meet the criteria. It will use a generic GPU kernel as fallback when running on GPU.\n",
            "WARNING:tensorflow:Layer lstm will not use cuDNN kernels since it doesn't meet the criteria. It will use a generic GPU kernel as fallback when running on GPU.\n",
            "WARNING:tensorflow:Layer lstm_1 will not use cuDNN kernels since it doesn't meet the criteria. It will use a generic GPU kernel as fallback when running on GPU.\n",
            "WARNING:tensorflow:Layer lstm will not use cuDNN kernels since it doesn't meet the criteria. It will use a generic GPU kernel as fallback when running on GPU.\n",
            "WARNING:tensorflow:Layer lstm_1 will not use cuDNN kernels since it doesn't meet the criteria. It will use a generic GPU kernel as fallback when running on GPU.\n",
            "WARNING:tensorflow:Layer lstm will not use cuDNN kernels since it doesn't meet the criteria. It will use a generic GPU kernel as fallback when running on GPU.\n",
            "WARNING:tensorflow:Layer lstm_1 will not use cuDNN kernels since it doesn't meet the criteria. It will use a generic GPU kernel as fallback when running on GPU.\n",
            "WARNING:tensorflow:Layer lstm will not use cuDNN kernels since it doesn't meet the criteria. It will use a generic GPU kernel as fallback when running on GPU.\n",
            "WARNING:tensorflow:Layer lstm_1 will not use cuDNN kernels since it doesn't meet the criteria. It will use a generic GPU kernel as fallback when running on GPU.\n",
            "WARNING:tensorflow:Layer lstm will not use cuDNN kernels since it doesn't meet the criteria. It will use a generic GPU kernel as fallback when running on GPU.\n",
            "WARNING:tensorflow:Layer lstm_1 will not use cuDNN kernels since it doesn't meet the criteria. It will use a generic GPU kernel as fallback when running on GPU.\n",
            "WARNING:tensorflow:Layer lstm will not use cuDNN kernels since it doesn't meet the criteria. It will use a generic GPU kernel as fallback when running on GPU.\n",
            "WARNING:tensorflow:Layer lstm_1 will not use cuDNN kernels since it doesn't meet the criteria. It will use a generic GPU kernel as fallback when running on GPU.\n",
            "WARNING:tensorflow:Layer lstm will not use cuDNN kernels since it doesn't meet the criteria. It will use a generic GPU kernel as fallback when running on GPU.\n",
            "WARNING:tensorflow:Layer lstm_1 will not use cuDNN kernels since it doesn't meet the criteria. It will use a generic GPU kernel as fallback when running on GPU.\n",
            "WARNING:tensorflow:Layer lstm will not use cuDNN kernels since it doesn't meet the criteria. It will use a generic GPU kernel as fallback when running on GPU.\n",
            "WARNING:tensorflow:Layer lstm_1 will not use cuDNN kernels since it doesn't meet the criteria. It will use a generic GPU kernel as fallback when running on GPU.\n",
            "WARNING:tensorflow:Layer lstm will not use cuDNN kernels since it doesn't meet the criteria. It will use a generic GPU kernel as fallback when running on GPU.\n",
            "WARNING:tensorflow:Layer lstm_1 will not use cuDNN kernels since it doesn't meet the criteria. It will use a generic GPU kernel as fallback when running on GPU.\n",
            "WARNING:tensorflow:Layer lstm will not use cuDNN kernels since it doesn't meet the criteria. It will use a generic GPU kernel as fallback when running on GPU.\n",
            "WARNING:tensorflow:Layer lstm_1 will not use cuDNN kernels since it doesn't meet the criteria. It will use a generic GPU kernel as fallback when running on GPU.\n",
            "WARNING:tensorflow:Layer lstm will not use cuDNN kernels since it doesn't meet the criteria. It will use a generic GPU kernel as fallback when running on GPU.\n",
            "WARNING:tensorflow:Layer lstm_1 will not use cuDNN kernels since it doesn't meet the criteria. It will use a generic GPU kernel as fallback when running on GPU.\n",
            "WARNING:tensorflow:Layer lstm will not use cuDNN kernels since it doesn't meet the criteria. It will use a generic GPU kernel as fallback when running on GPU.\n",
            "WARNING:tensorflow:Layer lstm_1 will not use cuDNN kernels since it doesn't meet the criteria. It will use a generic GPU kernel as fallback when running on GPU.\n",
            "WARNING:tensorflow:Layer lstm will not use cuDNN kernels since it doesn't meet the criteria. It will use a generic GPU kernel as fallback when running on GPU.\n",
            "WARNING:tensorflow:Layer lstm_1 will not use cuDNN kernels since it doesn't meet the criteria. It will use a generic GPU kernel as fallback when running on GPU.\n",
            "WARNING:tensorflow:Layer lstm will not use cuDNN kernels since it doesn't meet the criteria. It will use a generic GPU kernel as fallback when running on GPU.\n",
            "WARNING:tensorflow:Layer lstm_1 will not use cuDNN kernels since it doesn't meet the criteria. It will use a generic GPU kernel as fallback when running on GPU.\n",
            "WARNING:tensorflow:Layer lstm will not use cuDNN kernels since it doesn't meet the criteria. It will use a generic GPU kernel as fallback when running on GPU.\n",
            "WARNING:tensorflow:Layer lstm_1 will not use cuDNN kernels since it doesn't meet the criteria. It will use a generic GPU kernel as fallback when running on GPU.\n",
            "WARNING:tensorflow:Layer lstm will not use cuDNN kernels since it doesn't meet the criteria. It will use a generic GPU kernel as fallback when running on GPU.\n",
            "WARNING:tensorflow:Layer lstm_1 will not use cuDNN kernels since it doesn't meet the criteria. It will use a generic GPU kernel as fallback when running on GPU.\n",
            "WARNING:tensorflow:Layer lstm will not use cuDNN kernels since it doesn't meet the criteria. It will use a generic GPU kernel as fallback when running on GPU.\n",
            "WARNING:tensorflow:Layer lstm_1 will not use cuDNN kernels since it doesn't meet the criteria. It will use a generic GPU kernel as fallback when running on GPU.\n",
            "WARNING:tensorflow:Layer lstm will not use cuDNN kernels since it doesn't meet the criteria. It will use a generic GPU kernel as fallback when running on GPU.\n",
            "WARNING:tensorflow:Layer lstm_1 will not use cuDNN kernels since it doesn't meet the criteria. It will use a generic GPU kernel as fallback when running on GPU.\n",
            "WARNING:tensorflow:Layer lstm will not use cuDNN kernels since it doesn't meet the criteria. It will use a generic GPU kernel as fallback when running on GPU.\n",
            "WARNING:tensorflow:Layer lstm_1 will not use cuDNN kernels since it doesn't meet the criteria. It will use a generic GPU kernel as fallback when running on GPU.\n",
            "WARNING:tensorflow:Layer lstm will not use cuDNN kernels since it doesn't meet the criteria. It will use a generic GPU kernel as fallback when running on GPU.\n",
            "WARNING:tensorflow:Layer lstm_1 will not use cuDNN kernels since it doesn't meet the criteria. It will use a generic GPU kernel as fallback when running on GPU.\n",
            "WARNING:tensorflow:Layer lstm will not use cuDNN kernels since it doesn't meet the criteria. It will use a generic GPU kernel as fallback when running on GPU.\n",
            "WARNING:tensorflow:Layer lstm_1 will not use cuDNN kernels since it doesn't meet the criteria. It will use a generic GPU kernel as fallback when running on GPU.\n",
            "WARNING:tensorflow:Layer lstm will not use cuDNN kernels since it doesn't meet the criteria. It will use a generic GPU kernel as fallback when running on GPU.\n",
            "WARNING:tensorflow:Layer lstm_1 will not use cuDNN kernels since it doesn't meet the criteria. It will use a generic GPU kernel as fallback when running on GPU.\n",
            "WARNING:tensorflow:Layer lstm will not use cuDNN kernels since it doesn't meet the criteria. It will use a generic GPU kernel as fallback when running on GPU.\n",
            "WARNING:tensorflow:Layer lstm_1 will not use cuDNN kernels since it doesn't meet the criteria. It will use a generic GPU kernel as fallback when running on GPU.\n",
            "WARNING:tensorflow:Layer lstm will not use cuDNN kernels since it doesn't meet the criteria. It will use a generic GPU kernel as fallback when running on GPU.\n",
            "WARNING:tensorflow:Layer lstm_1 will not use cuDNN kernels since it doesn't meet the criteria. It will use a generic GPU kernel as fallback when running on GPU.\n",
            "WARNING:tensorflow:Layer lstm will not use cuDNN kernels since it doesn't meet the criteria. It will use a generic GPU kernel as fallback when running on GPU.\n",
            "WARNING:tensorflow:Layer lstm_1 will not use cuDNN kernels since it doesn't meet the criteria. It will use a generic GPU kernel as fallback when running on GPU.\n",
            "WARNING:tensorflow:Layer lstm will not use cuDNN kernels since it doesn't meet the criteria. It will use a generic GPU kernel as fallback when running on GPU.\n",
            "WARNING:tensorflow:Layer lstm_1 will not use cuDNN kernels since it doesn't meet the criteria. It will use a generic GPU kernel as fallback when running on GPU.\n",
            "WARNING:tensorflow:Layer lstm will not use cuDNN kernels since it doesn't meet the criteria. It will use a generic GPU kernel as fallback when running on GPU.\n",
            "WARNING:tensorflow:Layer lstm_1 will not use cuDNN kernels since it doesn't meet the criteria. It will use a generic GPU kernel as fallback when running on GPU.\n",
            "WARNING:tensorflow:Layer lstm will not use cuDNN kernels since it doesn't meet the criteria. It will use a generic GPU kernel as fallback when running on GPU.\n",
            "WARNING:tensorflow:Layer lstm_1 will not use cuDNN kernels since it doesn't meet the criteria. It will use a generic GPU kernel as fallback when running on GPU.\n",
            "WARNING:tensorflow:Layer lstm will not use cuDNN kernels since it doesn't meet the criteria. It will use a generic GPU kernel as fallback when running on GPU.\n",
            "WARNING:tensorflow:Layer lstm_1 will not use cuDNN kernels since it doesn't meet the criteria. It will use a generic GPU kernel as fallback when running on GPU.\n",
            "WARNING:tensorflow:Layer lstm will not use cuDNN kernels since it doesn't meet the criteria. It will use a generic GPU kernel as fallback when running on GPU.\n",
            "WARNING:tensorflow:Layer lstm_1 will not use cuDNN kernels since it doesn't meet the criteria. It will use a generic GPU kernel as fallback when running on GPU.\n",
            "WARNING:tensorflow:Layer lstm will not use cuDNN kernels since it doesn't meet the criteria. It will use a generic GPU kernel as fallback when running on GPU.\n",
            "WARNING:tensorflow:Layer lstm_1 will not use cuDNN kernels since it doesn't meet the criteria. It will use a generic GPU kernel as fallback when running on GPU.\n",
            "WARNING:tensorflow:Layer lstm will not use cuDNN kernels since it doesn't meet the criteria. It will use a generic GPU kernel as fallback when running on GPU.\n",
            "WARNING:tensorflow:Layer lstm_1 will not use cuDNN kernels since it doesn't meet the criteria. It will use a generic GPU kernel as fallback when running on GPU.\n",
            "WARNING:tensorflow:Layer lstm will not use cuDNN kernels since it doesn't meet the criteria. It will use a generic GPU kernel as fallback when running on GPU.\n",
            "WARNING:tensorflow:Layer lstm_1 will not use cuDNN kernels since it doesn't meet the criteria. It will use a generic GPU kernel as fallback when running on GPU.\n",
            "WARNING:tensorflow:Layer lstm will not use cuDNN kernels since it doesn't meet the criteria. It will use a generic GPU kernel as fallback when running on GPU.\n",
            "WARNING:tensorflow:Layer lstm_1 will not use cuDNN kernels since it doesn't meet the criteria. It will use a generic GPU kernel as fallback when running on GPU.\n",
            "WARNING:tensorflow:Layer lstm will not use cuDNN kernels since it doesn't meet the criteria. It will use a generic GPU kernel as fallback when running on GPU.\n",
            "WARNING:tensorflow:Layer lstm_1 will not use cuDNN kernels since it doesn't meet the criteria. It will use a generic GPU kernel as fallback when running on GPU.\n",
            "WARNING:tensorflow:Layer lstm will not use cuDNN kernels since it doesn't meet the criteria. It will use a generic GPU kernel as fallback when running on GPU.\n",
            "WARNING:tensorflow:Layer lstm_1 will not use cuDNN kernels since it doesn't meet the criteria. It will use a generic GPU kernel as fallback when running on GPU.\n",
            "WARNING:tensorflow:Layer lstm will not use cuDNN kernels since it doesn't meet the criteria. It will use a generic GPU kernel as fallback when running on GPU.\n",
            "WARNING:tensorflow:Layer lstm_1 will not use cuDNN kernels since it doesn't meet the criteria. It will use a generic GPU kernel as fallback when running on GPU.\n",
            "WARNING:tensorflow:Layer lstm will not use cuDNN kernels since it doesn't meet the criteria. It will use a generic GPU kernel as fallback when running on GPU.\n",
            "WARNING:tensorflow:Layer lstm_1 will not use cuDNN kernels since it doesn't meet the criteria. It will use a generic GPU kernel as fallback when running on GPU.\n",
            "WARNING:tensorflow:Layer lstm will not use cuDNN kernels since it doesn't meet the criteria. It will use a generic GPU kernel as fallback when running on GPU.\n",
            "WARNING:tensorflow:Layer lstm_1 will not use cuDNN kernels since it doesn't meet the criteria. It will use a generic GPU kernel as fallback when running on GPU.\n",
            "WARNING:tensorflow:Layer lstm will not use cuDNN kernels since it doesn't meet the criteria. It will use a generic GPU kernel as fallback when running on GPU.\n",
            "WARNING:tensorflow:Layer lstm_1 will not use cuDNN kernels since it doesn't meet the criteria. It will use a generic GPU kernel as fallback when running on GPU.\n",
            "WARNING:tensorflow:Layer lstm will not use cuDNN kernels since it doesn't meet the criteria. It will use a generic GPU kernel as fallback when running on GPU.\n",
            "WARNING:tensorflow:Layer lstm_1 will not use cuDNN kernels since it doesn't meet the criteria. It will use a generic GPU kernel as fallback when running on GPU.\n",
            "WARNING:tensorflow:Layer lstm will not use cuDNN kernels since it doesn't meet the criteria. It will use a generic GPU kernel as fallback when running on GPU.\n",
            "WARNING:tensorflow:Layer lstm_1 will not use cuDNN kernels since it doesn't meet the criteria. It will use a generic GPU kernel as fallback when running on GPU.\n",
            "WARNING:tensorflow:Layer lstm will not use cuDNN kernels since it doesn't meet the criteria. It will use a generic GPU kernel as fallback when running on GPU.\n",
            "WARNING:tensorflow:Layer lstm_1 will not use cuDNN kernels since it doesn't meet the criteria. It will use a generic GPU kernel as fallback when running on GPU.\n"
          ]
        },
        {
          "output_type": "stream",
          "name": "stdout",
          "text": [
            "Results summary\n",
            "Results in my_dir/exp1\n",
            "Showing 10 best trials\n",
            "<keras_tuner.engine.objective.Objective object at 0x7fe953f4efa0>\n",
            "Trial summary\n",
            "Hyperparameters:\n",
            "units: 32\n",
            "learning_rate: 0.001\n",
            "Score: 193.1665802001953\n",
            "Trial summary\n",
            "Hyperparameters:\n",
            "units: 96\n",
            "learning_rate: 0.0001\n",
            "Score: 193.9837443033854\n",
            "Trial summary\n",
            "Hyperparameters:\n",
            "units: 112\n",
            "learning_rate: 0.0001\n",
            "Score: 196.62564086914062\n",
            "Trial summary\n",
            "Hyperparameters:\n",
            "units: 80\n",
            "learning_rate: 0.0001\n",
            "Score: 197.7218221028646\n",
            "Trial summary\n",
            "Hyperparameters:\n",
            "units: 128\n",
            "learning_rate: 0.0001\n",
            "Score: 214.41035970052084\n",
            "Trial summary\n",
            "Hyperparameters:\n",
            "units: 32\n",
            "learning_rate: 0.0001\n",
            "Score: 220.35211690266928\n",
            "Trial summary\n",
            "Hyperparameters:\n",
            "units: 48\n",
            "learning_rate: 0.001\n",
            "Score: 227.55897013346353\n",
            "Trial summary\n",
            "Hyperparameters:\n",
            "units: 64\n",
            "learning_rate: 0.0015\n",
            "Score: 231.85338338216147\n",
            "Trial summary\n",
            "Hyperparameters:\n",
            "units: 80\n",
            "learning_rate: 0.001\n",
            "Score: 236.49966430664062\n",
            "Trial summary\n",
            "Hyperparameters:\n",
            "units: 48\n",
            "learning_rate: 0.0015\n",
            "Score: 242.7906697591146\n"
          ]
        }
      ]
    },
    {
      "cell_type": "code",
      "source": [
        "models = tuner.get_best_models(num_models=2)\n",
        "best_model = models[0]\n",
        "best_model.build(input_shape=(WINDOW_SIZE))\n",
        "best_model.summary()"
      ],
      "metadata": {
        "colab": {
          "base_uri": "https://localhost:8080/"
        },
        "id": "2qhgoBX_x0kz",
        "outputId": "5b90ac7f-cab6-40e2-97dd-6ee297930ba1"
      },
      "execution_count": null,
      "outputs": [
        {
          "output_type": "stream",
          "name": "stderr",
          "text": [
            "WARNING:tensorflow:Layer lstm will not use cuDNN kernels since it doesn't meet the criteria. It will use a generic GPU kernel as fallback when running on GPU.\n",
            "WARNING:tensorflow:Layer lstm_1 will not use cuDNN kernels since it doesn't meet the criteria. It will use a generic GPU kernel as fallback when running on GPU.\n",
            "WARNING:tensorflow:Layer lstm will not use cuDNN kernels since it doesn't meet the criteria. It will use a generic GPU kernel as fallback when running on GPU.\n",
            "WARNING:tensorflow:Layer lstm_1 will not use cuDNN kernels since it doesn't meet the criteria. It will use a generic GPU kernel as fallback when running on GPU.\n"
          ]
        },
        {
          "output_type": "stream",
          "name": "stdout",
          "text": [
            "Model: \"model_1_lstm\"\n",
            "_________________________________________________________________\n",
            " Layer (type)                Output Shape              Param #   \n",
            "=================================================================\n",
            " input_1 (InputLayer)        [(None, 10)]              0         \n",
            "                                                                 \n",
            " lambda (Lambda)             (None, 1, 10)             0         \n",
            "                                                                 \n",
            " lstm (LSTM)                 (None, 1, 32)             5504      \n",
            "                                                                 \n",
            " lstm_1 (LSTM)               (None, 1, 32)             8320      \n",
            "                                                                 \n",
            " dense (Dense)               (None, 1, 1)              33        \n",
            "                                                                 \n",
            "=================================================================\n",
            "Total params: 13,857\n",
            "Trainable params: 13,857\n",
            "Non-trainable params: 0\n",
            "_________________________________________________________________\n"
          ]
        }
      ]
    },
    {
      "cell_type": "code",
      "source": [
        "best_model.evaluate(test_windows, test_labels)"
      ],
      "metadata": {
        "colab": {
          "base_uri": "https://localhost:8080/"
        },
        "id": "vavoObl2x28c",
        "outputId": "c71c8867-7d54-498d-d32e-f97b66fdfcae"
      },
      "execution_count": null,
      "outputs": [
        {
          "output_type": "stream",
          "name": "stderr",
          "text": [
            "WARNING:tensorflow:Detecting that an object or model or tf.train.Checkpoint is being deleted with unrestored values. See the following logs for the specific values in question. To silence these warnings, use `status.expect_partial()`. See https://www.tensorflow.org/api_docs/python/tf/train/Checkpoint#restorefor details about the status object returned by the restore function.\n",
            "WARNING:tensorflow:Value in checkpoint could not be found in the restored object: (root).optimizer.iter\n",
            "WARNING:tensorflow:Value in checkpoint could not be found in the restored object: (root).optimizer.beta_1\n",
            "WARNING:tensorflow:Value in checkpoint could not be found in the restored object: (root).optimizer.beta_2\n",
            "WARNING:tensorflow:Value in checkpoint could not be found in the restored object: (root).optimizer.decay\n",
            "WARNING:tensorflow:Value in checkpoint could not be found in the restored object: (root).optimizer.learning_rate\n"
          ]
        },
        {
          "output_type": "stream",
          "name": "stdout",
          "text": [
            "6/6 [==============================] - 1s 3ms/step - loss: 206.8304 - mae: 206.8304\n"
          ]
        },
        {
          "output_type": "execute_result",
          "data": {
            "text/plain": [
              "[206.8304443359375, 206.8304443359375]"
            ]
          },
          "metadata": {},
          "execution_count": 57
        }
      ]
    },
    {
      "cell_type": "code",
      "source": [
        "best_model_preds = make_preds(best_model, test_windows)"
      ],
      "metadata": {
        "colab": {
          "base_uri": "https://localhost:8080/"
        },
        "id": "fS8H-ZErx5HM",
        "outputId": "e622726d-5442-449f-8422-a0747b5307f6"
      },
      "execution_count": null,
      "outputs": [
        {
          "output_type": "stream",
          "name": "stdout",
          "text": [
            "6/6 [==============================] - 0s 3ms/step\n"
          ]
        }
      ]
    },
    {
      "cell_type": "code",
      "source": [
        "plt.figure(figsize=(10,7))\n",
        "plt.plot(best_model_preds[50:], label = 'Predicted')\n",
        "plt.plot(tf.squeeze(test_labels)[50:], label = 'Actual')\n",
        "plt.title('Prediction vs Actual Best Model')\n",
        "plt.legend();"
      ],
      "metadata": {
        "colab": {
          "base_uri": "https://localhost:8080/",
          "height": 444
        },
        "id": "9HNz5x5Mx_4l",
        "outputId": "c48219bb-6e1c-4311-b1ff-c04327a9bfd4"
      },
      "execution_count": null,
      "outputs": [
        {
          "output_type": "display_data",
          "data": {
            "text/plain": [
              "<Figure size 720x504 with 1 Axes>"
            ],
            "image/png": "[encoded data removed]"
          },
          "metadata": {
            "needs_background": "light"
          }
        }
      ]
    },
    {
      "cell_type": "code",
      "source": [
        "evaluate_preds(tf.squeeze(test_labels), best_model_preds)"
      ],
      "metadata": {
        "colab": {
          "base_uri": "https://localhost:8080/"
        },
        "id": "3vY4K_IhyARF",
        "outputId": "1b94236e-940d-4a00-edb9-1850ee8a6fa6"
      },
      "execution_count": null,
      "outputs": [
        {
          "output_type": "execute_result",
          "data": {
            "text/plain": [
              "{'mae': 206.83044, 'mse': 54229.457, 'rmse': 232.8722, 'mape': 0.06474444}"
            ]
          },
          "metadata": {},
          "execution_count": 60
        }
      ]
    },
    {
      "cell_type": "code",
      "source": [
        "def make_future_forecast(values, model, into_future, window_size=WINDOW_SIZE) -> list:\n",
        "\n",
        "  future_forecast = []\n",
        "  last_window = values[-WINDOW_SIZE:] \n",
        "\n",
        "  for _ in range(into_future):\n",
        "    future_pred = model.predict(tf.expand_dims(last_window, axis=0))\n",
        "    future_forecast.append(tf.squeeze(future_pred).numpy())\n",
        "    last_window = np.append(last_window, future_pred)[-WINDOW_SIZE:]\n",
        "  \n",
        "  return future_forecast\n",
        "     "
      ],
      "metadata": {
        "id": "JRBl8yW7yCFt"
      },
      "execution_count": null,
      "outputs": []
    },
    {
      "cell_type": "code",
      "source": [
        "future_forecast = make_future_forecast(values=test_labels,\n",
        "                                       model=best_model,\n",
        "                                       into_future=10,\n",
        "                                       window_size=WINDOW_SIZE)"
      ],
      "metadata": {
        "colab": {
          "base_uri": "https://localhost:8080/"
        },
        "id": "jygV33mCyRRn",
        "outputId": "02801e8e-4085-426c-97a8-ea4eb47f21ba"
      },
      "execution_count": null,
      "outputs": [
        {
          "output_type": "stream",
          "name": "stdout",
          "text": [
            "1/1 [==============================] - 0s 359ms/step\n",
            "1/1 [==============================] - 0s 358ms/step\n",
            "1/1 [==============================] - 0s 16ms/step\n",
            "1/1 [==============================] - 0s 15ms/step\n",
            "1/1 [==============================] - 0s 15ms/step\n",
            "1/1 [==============================] - 0s 15ms/step\n",
            "1/1 [==============================] - 0s 15ms/step\n",
            "1/1 [==============================] - 0s 15ms/step\n",
            "1/1 [==============================] - 0s 15ms/step\n",
            "1/1 [==============================] - 0s 15ms/step\n"
          ]
        }
      ]
    },
    {
      "cell_type": "code",
      "source": [
        "future_forecast"
      ],
      "metadata": {
        "colab": {
          "base_uri": "https://localhost:8080/"
        },
        "id": "0mLqBsLIyaVX",
        "outputId": "c82c3b69-55af-4ab3-9ed7-33a7c9c863b7"
      },
      "execution_count": null,
      "outputs": [
        {
          "output_type": "execute_result",
          "data": {
            "text/plain": [
              "[330812.47,\n",
              " 331112.9,\n",
              " 331370.66,\n",
              " 331617.72,\n",
              " 331911.78,\n",
              " 332130.75,\n",
              " 332381.4,\n",
              " 332613.38,\n",
              " 332865.53,\n",
              " 333065.84]"
            ]
          },
          "metadata": {},
          "execution_count": 63
        }
      ]
    },
    {
      "cell_type": "code",
      "source": [
        "from datetime import datetime\n",
        "from dateutil.relativedelta import relativedelta\n",
        "dates = df.index\n",
        "print(dates[-1])\n",
        "def get_dates(into_future):\n",
        "  future_dates = []\n",
        "  last_date = dates[-1]\n",
        "  #future_dates.append(last_date)\n",
        "  for i in range(into_future):\n",
        "    last_date = last_date + relativedelta(months=1)\n",
        "    future_dates.append(last_date)\n",
        "  return future_dates "
      ],
      "metadata": {
        "colab": {
          "base_uri": "https://localhost:8080/"
        },
        "id": "Nj-tb43MyakR",
        "outputId": "619a6d3a-79aa-4d24-e8a8-fef1050d4098"
      },
      "execution_count": null,
      "outputs": [
        {
          "output_type": "stream",
          "name": "stdout",
          "text": [
            "2019-12-01 00:00:00\n"
          ]
        }
      ]
    },
    {
      "cell_type": "code",
      "source": [
        "future_dates = get_dates(10)\n",
        "future_dates"
      ],
      "metadata": {
        "colab": {
          "base_uri": "https://localhost:8080/"
        },
        "id": "cCP5V9zhydUo",
        "outputId": "9550f84c-f7a3-428d-c780-91225a9e38ec"
      },
      "execution_count": null,
      "outputs": [
        {
          "output_type": "execute_result",
          "data": {
            "text/plain": [
              "[Timestamp('2020-01-01 00:00:00'),\n",
              " Timestamp('2020-02-01 00:00:00'),\n",
              " Timestamp('2020-03-01 00:00:00'),\n",
              " Timestamp('2020-04-01 00:00:00'),\n",
              " Timestamp('2020-05-01 00:00:00'),\n",
              " Timestamp('2020-06-01 00:00:00'),\n",
              " Timestamp('2020-07-01 00:00:00'),\n",
              " Timestamp('2020-08-01 00:00:00'),\n",
              " Timestamp('2020-09-01 00:00:00'),\n",
              " Timestamp('2020-10-01 00:00:00')]"
            ]
          },
          "metadata": {},
          "execution_count": 65
        }
      ]
    },
    {
      "cell_type": "code",
      "source": [
        "# Plot future US Population\n",
        "plt.figure(figsize=(10, 7))\n",
        "plot_time_series(df.index, df, start=600, format=\"o\", label=\"Actual Population\")\n",
        "plot_time_series(future_dates, future_forecast, format=\"o\", label=\"Predicted Population\")"
      ],
      "metadata": {
        "colab": {
          "base_uri": "https://localhost:8080/",
          "height": 442
        },
        "id": "2fK77Rbhye4h",
        "outputId": "76ad6bd9-f777-4d01-beee-50197f0e8918"
      },
      "execution_count": null,
      "outputs": [
        {
          "output_type": "display_data",
          "data": {
            "text/plain": [
              "<Figure size 720x504 with 1 Axes>"
            ],
            "image/png": "[encoded data removed]"
          },
          "metadata": {
            "needs_background": "light"
          }
        }
      ]
    },
    {
      "cell_type": "code",
      "source": [],
      "metadata": {
        "id": "9G25QPXI0vB9"
      },
      "execution_count": null,
      "outputs": []
    }
  ],
  "metadata": {
    "accelerator": "GPU",
    "colab": {
      "provenance": [],
      "authorship_tag": "ABX9TyPj2LepQ9iEGDd5gIxhZikg",
      "include_colab_link": true
    },
    "gpuClass": "premium",
    "kernelspec": {
      "display_name": "Python 3",
      "name": "python3"
    },
    "language_info": {
      "name": "python"
    }
  },
  "nbformat": 4,
  "nbformat_minor": 0
}